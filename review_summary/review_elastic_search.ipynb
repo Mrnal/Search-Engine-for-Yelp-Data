{
 "cells": [
  {
   "cell_type": "markdown",
   "id": "1eb8c965",
   "metadata": {},
   "source": [
    "# Setup"
   ]
  },
  {
   "cell_type": "code",
   "execution_count": 1,
   "id": "5cf53bd5",
   "metadata": {},
   "outputs": [],
   "source": [
    "from elasticsearch import Elasticsearch\n",
    "from elasticsearch.helpers import bulk\n",
    "from dotenv import load_dotenv, find_dotenv\n",
    "\n",
    "import pandas as pd\n",
    "import os\n",
    "import json\n",
    "import numpy as np"
   ]
  },
  {
   "cell_type": "code",
   "execution_count": 2,
   "id": "4bf6c6e1",
   "metadata": {
    "scrolled": true
   },
   "outputs": [
    {
     "data": {
      "text/plain": [
       "True"
      ]
     },
     "execution_count": 2,
     "metadata": {},
     "output_type": "execute_result"
    }
   ],
   "source": [
    "load_dotenv(find_dotenv())"
   ]
  },
  {
   "cell_type": "code",
   "execution_count": 3,
   "id": "e3be850d",
   "metadata": {},
   "outputs": [],
   "source": [
    "cloud_id = os.environ.get(\"CLOUD_ID\")\n",
    "api_key = os.environ.get(\"API_KEY\")"
   ]
  },
  {
   "cell_type": "code",
   "execution_count": 4,
   "id": "e7fb799e",
   "metadata": {},
   "outputs": [],
   "source": [
    "es = Elasticsearch(cloud_id=cloud_id, api_key=api_key)"
   ]
  },
  {
   "cell_type": "code",
   "execution_count": 5,
   "id": "9d6e33ce",
   "metadata": {},
   "outputs": [
    {
     "data": {
      "text/plain": [
       "ObjectApiResponse({'name': 'instance-0000000000', 'cluster_name': '1aefb5b043094a6ab6aa373a1fe311df', 'cluster_uuid': '4x3rb70ISxaylYI7fsA4Ow', 'version': {'number': '8.15.2', 'build_flavor': 'default', 'build_type': 'docker', 'build_hash': '98adf7bf6bb69b66ab95b761c9e5aadb0bb059a3', 'build_date': '2024-09-19T10:06:03.564235954Z', 'build_snapshot': False, 'lucene_version': '9.11.1', 'minimum_wire_compatibility_version': '7.17.0', 'minimum_index_compatibility_version': '7.0.0'}, 'tagline': 'You Know, for Search'})"
      ]
     },
     "execution_count": 5,
     "metadata": {},
     "output_type": "execute_result"
    }
   ],
   "source": [
    "es.info()"
   ]
  },
  {
   "cell_type": "code",
   "execution_count": 6,
   "id": "3d21876d",
   "metadata": {},
   "outputs": [
    {
     "data": {
      "text/plain": [
       "ObjectApiResponse({'acknowledged': True})"
      ]
     },
     "execution_count": 6,
     "metadata": {},
     "output_type": "execute_result"
    }
   ],
   "source": [
    "es.indices.delete(index=\"review_index\", ignore_unavailable=True)"
   ]
  },
  {
   "cell_type": "markdown",
   "id": "ed5fedcc",
   "metadata": {},
   "source": [
    "# Review Data"
   ]
  },
  {
   "cell_type": "code",
   "execution_count": 7,
   "id": "152a85bb",
   "metadata": {},
   "outputs": [
    {
     "data": {
      "text/html": [
       "<div>\n",
       "<style scoped>\n",
       "    .dataframe tbody tr th:only-of-type {\n",
       "        vertical-align: middle;\n",
       "    }\n",
       "\n",
       "    .dataframe tbody tr th {\n",
       "        vertical-align: top;\n",
       "    }\n",
       "\n",
       "    .dataframe thead th {\n",
       "        text-align: right;\n",
       "    }\n",
       "</style>\n",
       "<table border=\"1\" class=\"dataframe\">\n",
       "  <thead>\n",
       "    <tr style=\"text-align: right;\">\n",
       "      <th></th>\n",
       "      <th>review_id</th>\n",
       "      <th>user_id</th>\n",
       "      <th>business_id</th>\n",
       "      <th>stars</th>\n",
       "      <th>useful</th>\n",
       "      <th>funny</th>\n",
       "      <th>cool</th>\n",
       "      <th>text</th>\n",
       "      <th>date</th>\n",
       "    </tr>\n",
       "  </thead>\n",
       "  <tbody>\n",
       "    <tr>\n",
       "      <th>0</th>\n",
       "      <td>XW_LfMv0fV21l9c6xQd_lw</td>\n",
       "      <td>9OAtfnWag-ajVxRbUTGIyg</td>\n",
       "      <td>lj-E32x9_FA7GmUrBGBEWg</td>\n",
       "      <td>4</td>\n",
       "      <td>0</td>\n",
       "      <td>0</td>\n",
       "      <td>0</td>\n",
       "      <td>Love going here for happy hour or dinner!  Gre...</td>\n",
       "      <td>2014-06-27 22:44:01</td>\n",
       "    </tr>\n",
       "    <tr>\n",
       "      <th>1</th>\n",
       "      <td>LnGZB0fjfgeVDVz5IHuEVA</td>\n",
       "      <td>j2wlzrntrbKwyOcOiB3l3w</td>\n",
       "      <td>rBdG_23USc7DletfZ11xGA</td>\n",
       "      <td>4</td>\n",
       "      <td>1</td>\n",
       "      <td>0</td>\n",
       "      <td>0</td>\n",
       "      <td>The hubby and I have been here on multiple occ...</td>\n",
       "      <td>2014-08-10 19:41:43</td>\n",
       "    </tr>\n",
       "    <tr>\n",
       "      <th>2</th>\n",
       "      <td>vBK79c3_1Ff_oqkh5VpfGg</td>\n",
       "      <td>Ohhrhu1RkqfVciIVx_W5HQ</td>\n",
       "      <td>nRKndeZLQ3eDL10UMwS2rQ</td>\n",
       "      <td>5</td>\n",
       "      <td>2</td>\n",
       "      <td>5</td>\n",
       "      <td>2</td>\n",
       "      <td>HOLY SMOKES!\\n\\nactual pumpkin pie mixed in wi...</td>\n",
       "      <td>2009-10-13 19:49:51</td>\n",
       "    </tr>\n",
       "    <tr>\n",
       "      <th>3</th>\n",
       "      <td>yCbzm_d4cHpfUX00Ljvgmg</td>\n",
       "      <td>bHSoye7R5cL-LVWLxtaxMg</td>\n",
       "      <td>SSZDGl2J-CEyIzuIbEiYNQ</td>\n",
       "      <td>2</td>\n",
       "      <td>2</td>\n",
       "      <td>0</td>\n",
       "      <td>0</td>\n",
       "      <td>We started with the artichoke dip, big mistake...</td>\n",
       "      <td>2017-09-08 23:20:19</td>\n",
       "    </tr>\n",
       "    <tr>\n",
       "      <th>4</th>\n",
       "      <td>-up4mW6WdqzGrRh7t_pLmA</td>\n",
       "      <td>xbybLiQockAzC4xAlzFrGg</td>\n",
       "      <td>EpREWeEpmR8f1qLHzzF0AA</td>\n",
       "      <td>5</td>\n",
       "      <td>0</td>\n",
       "      <td>0</td>\n",
       "      <td>0</td>\n",
       "      <td>After living in the STL area for way over 10 y...</td>\n",
       "      <td>2011-11-30 06:58:36</td>\n",
       "    </tr>\n",
       "    <tr>\n",
       "      <th>...</th>\n",
       "      <td>...</td>\n",
       "      <td>...</td>\n",
       "      <td>...</td>\n",
       "      <td>...</td>\n",
       "      <td>...</td>\n",
       "      <td>...</td>\n",
       "      <td>...</td>\n",
       "      <td>...</td>\n",
       "      <td>...</td>\n",
       "    </tr>\n",
       "    <tr>\n",
       "      <th>502380</th>\n",
       "      <td>flql0FgydC3n0Hwx6kcJoQ</td>\n",
       "      <td>V3XYG1zKuW8VUBNtjacoxA</td>\n",
       "      <td>oHvEgLH6pAkcrPmeR1l3UQ</td>\n",
       "      <td>5</td>\n",
       "      <td>7</td>\n",
       "      <td>0</td>\n",
       "      <td>2</td>\n",
       "      <td>We are huge Retreat fans! One of my favorite t...</td>\n",
       "      <td>2018-04-26 05:15:22</td>\n",
       "    </tr>\n",
       "    <tr>\n",
       "      <th>502381</th>\n",
       "      <td>ND5Oq45jqd_dSbBD6i73kw</td>\n",
       "      <td>ezqvnYDS8WD2KshapwQ3Yw</td>\n",
       "      <td>VpJzlz3bKOJtiI1rb9kTpw</td>\n",
       "      <td>4</td>\n",
       "      <td>13</td>\n",
       "      <td>4</td>\n",
       "      <td>11</td>\n",
       "      <td>I have been to this place a few times, for lun...</td>\n",
       "      <td>2015-06-02 17:16:41</td>\n",
       "    </tr>\n",
       "    <tr>\n",
       "      <th>502382</th>\n",
       "      <td>A1Lv5xmgj2jPDIa2bF1byg</td>\n",
       "      <td>UfevNSM_H14XXWZFlHYPoA</td>\n",
       "      <td>TNtcjnta11CpDebuBNdoug</td>\n",
       "      <td>2</td>\n",
       "      <td>0</td>\n",
       "      <td>1</td>\n",
       "      <td>0</td>\n",
       "      <td>Our waiter was good but a bit rushed. I didn't...</td>\n",
       "      <td>2017-10-22 20:55:12</td>\n",
       "    </tr>\n",
       "    <tr>\n",
       "      <th>502383</th>\n",
       "      <td>E5sXn_qdPX5qRxUEApmiuA</td>\n",
       "      <td>Mc4C7fVY0sEcD-U5eOA2Og</td>\n",
       "      <td>ZNfph3_VzRLTOemk9Tmzaw</td>\n",
       "      <td>3</td>\n",
       "      <td>5</td>\n",
       "      <td>0</td>\n",
       "      <td>1</td>\n",
       "      <td>This gym gets the job done. \\n\\nUpsides: \\nChi...</td>\n",
       "      <td>2016-01-25 21:45:34</td>\n",
       "    </tr>\n",
       "    <tr>\n",
       "      <th>502384</th>\n",
       "      <td>7NgXAuTFiJHYbuepOPwU0w</td>\n",
       "      <td>x1QLCwZGFAjxRRw4EHc3-g</td>\n",
       "      <td>1_BVWDzi5cVqWxNe9bOMMQ</td>\n",
       "      <td>5</td>\n",
       "      <td>1</td>\n",
       "      <td>0</td>\n",
       "      <td>1</td>\n",
       "      <td>Don't misinterpret my 5-star review....I don't...</td>\n",
       "      <td>2016-04-30 01:02:34</td>\n",
       "    </tr>\n",
       "  </tbody>\n",
       "</table>\n",
       "<p>502385 rows × 9 columns</p>\n",
       "</div>"
      ],
      "text/plain": [
       "                     review_id                 user_id  \\\n",
       "0       XW_LfMv0fV21l9c6xQd_lw  9OAtfnWag-ajVxRbUTGIyg   \n",
       "1       LnGZB0fjfgeVDVz5IHuEVA  j2wlzrntrbKwyOcOiB3l3w   \n",
       "2       vBK79c3_1Ff_oqkh5VpfGg  Ohhrhu1RkqfVciIVx_W5HQ   \n",
       "3       yCbzm_d4cHpfUX00Ljvgmg  bHSoye7R5cL-LVWLxtaxMg   \n",
       "4       -up4mW6WdqzGrRh7t_pLmA  xbybLiQockAzC4xAlzFrGg   \n",
       "...                        ...                     ...   \n",
       "502380  flql0FgydC3n0Hwx6kcJoQ  V3XYG1zKuW8VUBNtjacoxA   \n",
       "502381  ND5Oq45jqd_dSbBD6i73kw  ezqvnYDS8WD2KshapwQ3Yw   \n",
       "502382  A1Lv5xmgj2jPDIa2bF1byg  UfevNSM_H14XXWZFlHYPoA   \n",
       "502383  E5sXn_qdPX5qRxUEApmiuA  Mc4C7fVY0sEcD-U5eOA2Og   \n",
       "502384  7NgXAuTFiJHYbuepOPwU0w  x1QLCwZGFAjxRRw4EHc3-g   \n",
       "\n",
       "                   business_id  stars  useful  funny  cool  \\\n",
       "0       lj-E32x9_FA7GmUrBGBEWg      4       0      0     0   \n",
       "1       rBdG_23USc7DletfZ11xGA      4       1      0     0   \n",
       "2       nRKndeZLQ3eDL10UMwS2rQ      5       2      5     2   \n",
       "3       SSZDGl2J-CEyIzuIbEiYNQ      2       2      0     0   \n",
       "4       EpREWeEpmR8f1qLHzzF0AA      5       0      0     0   \n",
       "...                        ...    ...     ...    ...   ...   \n",
       "502380  oHvEgLH6pAkcrPmeR1l3UQ      5       7      0     2   \n",
       "502381  VpJzlz3bKOJtiI1rb9kTpw      4      13      4    11   \n",
       "502382  TNtcjnta11CpDebuBNdoug      2       0      1     0   \n",
       "502383  ZNfph3_VzRLTOemk9Tmzaw      3       5      0     1   \n",
       "502384  1_BVWDzi5cVqWxNe9bOMMQ      5       1      0     1   \n",
       "\n",
       "                                                     text                date  \n",
       "0       Love going here for happy hour or dinner!  Gre... 2014-06-27 22:44:01  \n",
       "1       The hubby and I have been here on multiple occ... 2014-08-10 19:41:43  \n",
       "2       HOLY SMOKES!\\n\\nactual pumpkin pie mixed in wi... 2009-10-13 19:49:51  \n",
       "3       We started with the artichoke dip, big mistake... 2017-09-08 23:20:19  \n",
       "4       After living in the STL area for way over 10 y... 2011-11-30 06:58:36  \n",
       "...                                                   ...                 ...  \n",
       "502380  We are huge Retreat fans! One of my favorite t... 2018-04-26 05:15:22  \n",
       "502381  I have been to this place a few times, for lun... 2015-06-02 17:16:41  \n",
       "502382  Our waiter was good but a bit rushed. I didn't... 2017-10-22 20:55:12  \n",
       "502383  This gym gets the job done. \\n\\nUpsides: \\nChi... 2016-01-25 21:45:34  \n",
       "502384  Don't misinterpret my 5-star review....I don't... 2016-04-30 01:02:34  \n",
       "\n",
       "[502385 rows x 9 columns]"
      ]
     },
     "execution_count": 7,
     "metadata": {},
     "output_type": "execute_result"
    }
   ],
   "source": [
    "reviews = pd.read_json(\"../data/mo_business_reviews.json\")\n",
    "reviews"
   ]
  },
  {
   "cell_type": "code",
   "execution_count": 8,
   "id": "3e011280",
   "metadata": {},
   "outputs": [
    {
     "name": "stdout",
     "output_type": "stream",
     "text": [
      "Index(['review_id', 'user_id', 'business_id', 'stars', 'useful', 'funny',\n",
      "       'cool', 'text', 'date'],\n",
      "      dtype='object')\n",
      "{'review_id': 'XW_LfMv0fV21l9c6xQd_lw', 'user_id': '9OAtfnWag-ajVxRbUTGIyg', 'business_id': 'lj-E32x9_FA7GmUrBGBEWg', 'stars': 4, 'useful': 0, 'funny': 0, 'cool': 0, 'text': \"Love going here for happy hour or dinner!  Great patio with fans to beat the StL heat!   Also...very accomodating at this location.  I like the Veal Milanese but with mixed greens instead of pasta!  they'll modify the menu to suit your taste!\", 'date': Timestamp('2014-06-27 22:44:01')}\n"
     ]
    }
   ],
   "source": [
    "print(reviews.columns)\n",
    "print(reviews.iloc[0].to_dict())"
   ]
  },
  {
   "cell_type": "code",
   "execution_count": 9,
   "id": "75efdb9f",
   "metadata": {
    "scrolled": true
   },
   "outputs": [
    {
     "name": "stdout",
     "output_type": "stream",
     "text": [
      "<class 'pandas.core.frame.DataFrame'>\n",
      "RangeIndex: 502385 entries, 0 to 502384\n",
      "Data columns (total 9 columns):\n",
      " #   Column       Non-Null Count   Dtype         \n",
      "---  ------       --------------   -----         \n",
      " 0   review_id    502385 non-null  object        \n",
      " 1   user_id      502385 non-null  object        \n",
      " 2   business_id  502385 non-null  object        \n",
      " 3   stars        502385 non-null  int64         \n",
      " 4   useful       502385 non-null  int64         \n",
      " 5   funny        502385 non-null  int64         \n",
      " 6   cool         502385 non-null  int64         \n",
      " 7   text         502385 non-null  object        \n",
      " 8   date         502385 non-null  datetime64[ns]\n",
      "dtypes: datetime64[ns](1), int64(4), object(4)\n",
      "memory usage: 34.5+ MB\n"
     ]
    }
   ],
   "source": [
    "reviews.info()"
   ]
  },
  {
   "cell_type": "code",
   "execution_count": 10,
   "id": "aaa5899a",
   "metadata": {
    "scrolled": false
   },
   "outputs": [
    {
     "data": {
      "text/plain": [
       "review_id      0\n",
       "user_id        0\n",
       "business_id    0\n",
       "stars          0\n",
       "useful         0\n",
       "funny          0\n",
       "cool           0\n",
       "text           0\n",
       "date           0\n",
       "dtype: int64"
      ]
     },
     "execution_count": 10,
     "metadata": {},
     "output_type": "execute_result"
    }
   ],
   "source": [
    "reviews.isna().sum()"
   ]
  },
  {
   "cell_type": "code",
   "execution_count": 11,
   "id": "57f2a332",
   "metadata": {},
   "outputs": [
    {
     "data": {
      "text/plain": [
       "0"
      ]
     },
     "execution_count": 11,
     "metadata": {},
     "output_type": "execute_result"
    }
   ],
   "source": [
    "reviews[reviews['user_id'] == \"bYENop4BuQepBjM1-BI3fA\"]['text'].duplicated().sum()"
   ]
  },
  {
   "cell_type": "code",
   "execution_count": 12,
   "id": "1feb2908",
   "metadata": {},
   "outputs": [
    {
     "data": {
      "text/plain": [
       "502385"
      ]
     },
     "execution_count": 12,
     "metadata": {},
     "output_type": "execute_result"
    }
   ],
   "source": [
    "len(reviews)"
   ]
  },
  {
   "cell_type": "code",
   "execution_count": 13,
   "id": "b0359e78",
   "metadata": {
    "scrolled": true
   },
   "outputs": [
    {
     "data": {
      "text/plain": [
       "user_id\n",
       "bYENop4BuQepBjM1-BI3fA    1392\n",
       "eTvp_hYnsrI5-ow_sQ31_g     909\n",
       "lYQk0R6sPfo3WeX-l_5BuA     900\n",
       "PnwOegp7RXfMeNAyO9fQhQ     837\n",
       "iPkdNziqnhNukjnmsrSzmg     767\n",
       "                          ... \n",
       "df7aymkZJEl02-a1ifq_yA       1\n",
       "8rlRVrJM9HJijkYS5lfmOg       1\n",
       "hAyYemOKvfrevwFLNCnU4g       1\n",
       "rZ7qO1yqBaQbjH2g2Fsu7g       1\n",
       "6YRmtPVvnD_mexQifxAJsg       1\n",
       "Name: count, Length: 151620, dtype: int64"
      ]
     },
     "execution_count": 13,
     "metadata": {},
     "output_type": "execute_result"
    }
   ],
   "source": [
    "user_review_count = pd.Series(reviews['user_id'].value_counts())\n",
    "user_review_count"
   ]
  },
  {
   "cell_type": "code",
   "execution_count": 14,
   "id": "fde781a8",
   "metadata": {},
   "outputs": [
    {
     "data": {
      "text/plain": [
       "count    151620.000000\n",
       "mean          3.313448\n",
       "std          12.979478\n",
       "min           1.000000\n",
       "25%           1.000000\n",
       "50%           1.000000\n",
       "75%           2.000000\n",
       "max        1392.000000\n",
       "Name: count, dtype: float64"
      ]
     },
     "execution_count": 14,
     "metadata": {},
     "output_type": "execute_result"
    }
   ],
   "source": [
    "user_review_count.describe()"
   ]
  },
  {
   "cell_type": "code",
   "execution_count": 15,
   "id": "815e4f05",
   "metadata": {},
   "outputs": [],
   "source": [
    "res = pd.cut(user_review_count, bins=[0, 10, 20, float('inf')], labels=['0-10', '10-20', '>20']).value_counts()"
   ]
  },
  {
   "cell_type": "code",
   "execution_count": 16,
   "id": "3ec9c71b",
   "metadata": {},
   "outputs": [
    {
     "data": {
      "text/plain": [
       "<AxesSubplot:xlabel='count'>"
      ]
     },
     "execution_count": 16,
     "metadata": {},
     "output_type": "execute_result"
    },
    {
     "data": {
      "image/png": "[encoded data removed]",
      "text/plain": [
       "<Figure size 432x288 with 1 Axes>"
      ]
     },
     "metadata": {
      "needs_background": "light"
     },
     "output_type": "display_data"
    }
   ],
   "source": [
    "res.plot()"
   ]
  },
  {
   "cell_type": "markdown",
   "id": "9414daec",
   "metadata": {},
   "source": [
    "151620 Unique User Ids are present"
   ]
  },
  {
   "cell_type": "code",
   "execution_count": 17,
   "id": "c3dd3c70",
   "metadata": {
    "scrolled": false
   },
   "outputs": [
    {
     "data": {
      "text/plain": [
       "count\n",
       "0-10     144756\n",
       "10-20      3941\n",
       ">20        2923\n",
       "Name: count, dtype: int64"
      ]
     },
     "execution_count": 17,
     "metadata": {},
     "output_type": "execute_result"
    }
   ],
   "source": [
    "res"
   ]
  },
  {
   "cell_type": "code",
   "execution_count": 18,
   "id": "9f4e4969",
   "metadata": {},
   "outputs": [
    {
     "data": {
      "text/plain": [
       "business_id\n",
       "I_3LMZ_1m2mzR0oLIOePIg    4093\n",
       "iRIHK8-EwpeffwvoO4nzIA    2170\n",
       "2BMk_drsikKWslJCXmQtjQ    2023\n",
       "R8t9g5nvi7VFyS8zsgmj8Q    1788\n",
       "cQIh4YJlVtZI9TLF5_smOg    1781\n",
       "                          ... \n",
       "FW9ozwOA7sOSS8EDr6fg_Q       5\n",
       "JqLGx2zcKVd6YhctqWCNBg       5\n",
       "ly1bPRLBnGbC98m96D8i-g       5\n",
       "8tt_vJrwlmnxgjaInr5ldQ       5\n",
       "9vtbZ5M2LlXbP1w50mB_IQ       5\n",
       "Name: count, Length: 10913, dtype: int64"
      ]
     },
     "execution_count": 18,
     "metadata": {},
     "output_type": "execute_result"
    }
   ],
   "source": [
    "reviews[\"business_id\"].value_counts()"
   ]
  },
  {
   "cell_type": "markdown",
   "id": "55d1138a",
   "metadata": {},
   "source": [
    "# Business Data"
   ]
  },
  {
   "cell_type": "code",
   "execution_count": 19,
   "id": "ad60a1f8",
   "metadata": {
    "scrolled": true
   },
   "outputs": [
    {
     "name": "stdout",
     "output_type": "stream",
     "text": [
      "Index(['business_id', 'name', 'address', 'city', 'state', 'postal_code',\n",
      "       'latitude', 'longitude', 'stars', 'review_count', 'is_open',\n",
      "       'attributes', 'categories', 'hours'],\n",
      "      dtype='object')\n",
      "{'business_id': 'mpf3x-BjTdTEA3yCZrAYPw', 'name': 'The UPS Store', 'address': '87 Grasso Plaza Shopping Center', 'city': 'Affton', 'state': 'MO', 'postal_code': '63123', 'latitude': 38.551126, 'longitude': -90.335695, 'stars': 3.0, 'review_count': 15, 'is_open': 1, 'attributes': {'BusinessAcceptsCreditCards': 'True'}, 'categories': 'Shipping Centers, Local Services, Notaries, Mailbox Centers, Printing Services', 'hours': {'Monday': '0:0-0:0', 'Tuesday': '8:0-18:30', 'Wednesday': '8:0-18:30', 'Thursday': '8:0-18:30', 'Friday': '8:0-18:30', 'Saturday': '8:0-14:0'}}\n"
     ]
    }
   ],
   "source": [
    "df = pd.read_json(\"../data/mo_business.json\")\n",
    "print(df.columns)\n",
    "print(df.iloc[0].to_dict())"
   ]
  },
  {
   "cell_type": "code",
   "execution_count": 20,
   "id": "865a38d3",
   "metadata": {},
   "outputs": [],
   "source": [
    "def clean_boolean(value):\n",
    "    if isinstance(value, str):\n",
    "        return value.lower() == 'true'\n",
    "    return bool(value) if value is not None else None"
   ]
  },
  {
   "cell_type": "code",
   "execution_count": 21,
   "id": "3daf31bb",
   "metadata": {},
   "outputs": [],
   "source": [
    "## fillna\n",
    "df['attributes'] = df['attributes'].apply(lambda x: {} if pd.isna(x) else x)\n",
    "df['attributes'] = df['attributes'].apply(lambda x: {'BusinessAcceptsCreditCards': clean_boolean(x.get('BusinessAcceptsCreditCards'))} if isinstance(x, dict) else {})\n",
    "df['hours'] = df['hours'].apply(lambda x: {} if pd.isna(x) else x)\n",
    "df['categories'] = df['categories'].fillna(\"Unknown\")\n",
    "\n",
    "## dtype mapping\n",
    "df['is_open'] = df['is_open'].astype(bool)\n",
    "df['business_id'] = df['business_id'].astype(str)\n",
    "df['name'] = df['name'].astype(str)\n",
    "df['postal_code'] = df['postal_code'].astype(str)"
   ]
  },
  {
   "cell_type": "code",
   "execution_count": 22,
   "id": "4d2fd52e",
   "metadata": {},
   "outputs": [],
   "source": [
    "## fillna\n",
    "df['attributes'] = df['attributes'].apply(lambda x: {} if pd.isna(x) else x)\n",
    "df['attributes'] = df['attributes'].apply(lambda x: {'BusinessAcceptsCreditCards': clean_boolean(x.get('BusinessAcceptsCreditCards'))} if isinstance(x, dict) else {})\n",
    "df['hours'] = df['hours'].apply(lambda x: {} if pd.isna(x) else x)\n",
    "df['categories'] = df['categories'].fillna(\"Unknown\")\n",
    "\n",
    "## dtype mapping\n",
    "df['is_open'] = df['is_open'].astype(bool)\n",
    "df['business_id'] = df['business_id'].astype(str)\n",
    "df['name'] = df['name'].astype(str)\n",
    "df['postal_code'] = df['postal_code'].astype(str)"
   ]
  },
  {
   "cell_type": "code",
   "execution_count": 23,
   "id": "f7cee53b",
   "metadata": {},
   "outputs": [
    {
     "data": {
      "text/plain": [
       "business_id\n",
       "mpf3x-BjTdTEA3yCZrAYPw    1\n",
       "LCMpkeQWHdCbuX0Nlkmeow    1\n",
       "4aSj0fmfFT2iqxr4-AzalA    1\n",
       "VcamrM5awvkJrvkBgUNaIw    1\n",
       "V7nIENZIo9zPrkQ-qRxHWA    1\n",
       "                         ..\n",
       "R8-iNVaAd0xLPes8oAQ6Rw    1\n",
       "mPuEgppqgqF9cvvlGTEocg    1\n",
       "9OH9xOearyJrCPXL9xOImA    1\n",
       "2xTj2i6yngysac6jrkbUOg    1\n",
       "LTeBejee7jIpaYWWll-Ubw    1\n",
       "Name: count, Length: 10913, dtype: int64"
      ]
     },
     "execution_count": 23,
     "metadata": {},
     "output_type": "execute_result"
    }
   ],
   "source": [
    "df[\"business_id\"].value_counts()"
   ]
  },
  {
   "cell_type": "code",
   "execution_count": 24,
   "id": "b0ce43e6",
   "metadata": {},
   "outputs": [],
   "source": [
    "index_name = \"business_data\"\n",
    "\n",
    "mapping = {\n",
    "    \"mappings\": {\n",
    "        \"properties\": {\n",
    "            \"business_id\": {\"type\": \"keyword\"},\n",
    "            \"name\": {\"type\": \"text\"},\n",
    "            \"address\": {\"type\": \"text\"},\n",
    "            \"city\": {\"type\": \"keyword\"},\n",
    "            \"state\": {\"type\": \"keyword\"},\n",
    "            \"postal_code\": {\"type\": \"keyword\"},\n",
    "            \"location\": { \"type\": \"geo_point\" },\n",
    "            \"latitude\": {\"type\": \"float\"},\n",
    "            \"longitude\": {\"type\": \"float\"},\n",
    "            \"stars\": {\"type\": \"float\"},\n",
    "            \"review_count\": {\"type\": \"integer\"},\n",
    "            \"is_open\": {\"type\": \"boolean\"},\n",
    "            \"attributes\": {\n",
    "                \"properties\": {\n",
    "                    \"BusinessAcceptsCreditCards\": {\"type\": \"boolean\"}\n",
    "                }\n",
    "            },\n",
    "            \"categories\": {\"type\": \"text\"},\n",
    "            \"hours\": {\n",
    "                \"properties\": {\n",
    "                    \"Monday\": {\"type\": \"text\"},\n",
    "                    \"Tuesday\": {\"type\": \"text\"},\n",
    "                    \"Wednesday\": {\"type\": \"text\"},\n",
    "                    \"Thursday\": {\"type\": \"text\"},\n",
    "                    \"Friday\": {\"type\": \"text\"},\n",
    "                    \"Saturday\": {\"type\": \"text\"},\n",
    "                    \"Sunday\": {\"type\": \"text\"}\n",
    "                }\n",
    "            }\n",
    "        }\n",
    "    }\n",
    "}"
   ]
  },
  {
   "cell_type": "code",
   "execution_count": 25,
   "id": "da3df7b4",
   "metadata": {},
   "outputs": [],
   "source": [
    "from elasticsearch.helpers import bulk"
   ]
  },
  {
   "cell_type": "code",
   "execution_count": 26,
   "id": "cd52f4c3",
   "metadata": {},
   "outputs": [
    {
     "name": "stdout",
     "output_type": "stream",
     "text": [
      "Index 'business_data' already exists.\n"
     ]
    }
   ],
   "source": [
    "if not es.indices.exists(index=index_name):\n",
    "    es.indices.create(index=index_name, body=mapping)\n",
    "    print(f\"Index '{index_name}' created successfully!\")\n",
    "else:\n",
    "    print(f\"Index '{index_name}' already exists.\")"
   ]
  },
  {
   "cell_type": "code",
   "execution_count": 27,
   "id": "3de00a73",
   "metadata": {},
   "outputs": [
    {
     "name": "stdout",
     "output_type": "stream",
     "text": [
      "Data uploaded successfully: (10913, [])\n"
     ]
    }
   ],
   "source": [
    "def upload_to_elastic(df, index_name):\n",
    "    for _, row in df.iterrows():\n",
    "        row_data = row.to_dict()\n",
    "        row_data['location'] = {\n",
    "            'lat': row_data['latitude'],\n",
    "            'lon': row_data['longitude']\n",
    "        }\n",
    "        yield {\n",
    "            \"_index\": index_name,\n",
    "            \"_id\": row_data['business_id'],\n",
    "            \"_source\": row_data\n",
    "        }\n",
    "\n",
    "try:\n",
    "    response = bulk(es, upload_to_elastic(df, index_name))\n",
    "    print(\"Data uploaded successfully:\", response)\n",
    "except Exception as e:\n",
    "    print(\"Error uploading data:\", e)"
   ]
  },
  {
   "cell_type": "code",
   "execution_count": 28,
   "id": "f7669af3",
   "metadata": {
    "scrolled": true
   },
   "outputs": [
    {
     "name": "stdout",
     "output_type": "stream",
     "text": [
      "Business Name: Imo's Pizza, Score: 4.2314672\n",
      "Business Name: Domino's Pizza, Score: 4.2314672\n",
      "Business Name: Elicia's Pizza, Score: 4.2314672\n",
      "Business Name: Reavis Pizza, Score: 4.2314672\n",
      "Business Name: Imo's Pizza, Score: 4.2314672\n",
      "Business Name: Imo's Pizza, Score: 4.2314672\n",
      "Business Name: Marco's Pizza, Score: 4.2314672\n",
      "Business Name: Jet's Pizza, Score: 4.2314672\n",
      "Business Name: Pizza Hut, Score: 4.2314672\n",
      "Business Name: Pizza Hut, Score: 4.2314672\n"
     ]
    }
   ],
   "source": [
    "search_query = {\n",
    "    \"query\": {\n",
    "        \"match\": {\n",
    "            \"name\": \"pizza\"\n",
    "        }\n",
    "    }\n",
    "}\n",
    "\n",
    "response = es.search(index=\"business_data\", body=search_query)\n",
    "\n",
    "for hit in response['hits']['hits']:\n",
    "    print(f\"Business Name: {hit['_source']['name']}, Score: {hit['_score']}\")"
   ]
  },
  {
   "cell_type": "code",
   "execution_count": 29,
   "id": "8c067d0c",
   "metadata": {
    "scrolled": false
   },
   "outputs": [
    {
     "data": {
      "text/plain": [
       "(0        38.551126\n",
       " 1        38.627695\n",
       " 2        38.565165\n",
       " 3        38.613576\n",
       " 4        38.617272\n",
       "            ...    \n",
       " 10908    38.572572\n",
       " 10909    38.715094\n",
       " 10910    38.660185\n",
       " 10911    38.641988\n",
       " 10912    38.631909\n",
       " Name: latitude, Length: 10913, dtype: float64,\n",
       " 0       -90.335695\n",
       " 1       -90.340465\n",
       " 2       -90.321087\n",
       " 3       -90.322383\n",
       " 4       -90.212784\n",
       "            ...    \n",
       " 10908   -90.333021\n",
       " 10909   -90.455972\n",
       " 10910   -90.225247\n",
       " 10911   -90.261655\n",
       " 10912   -90.444269\n",
       " Name: longitude, Length: 10913, dtype: float64)"
      ]
     },
     "execution_count": 29,
     "metadata": {},
     "output_type": "execute_result"
    }
   ],
   "source": [
    "df['latitude'], df['longitude']"
   ]
  },
  {
   "cell_type": "code",
   "execution_count": 30,
   "id": "3cf5ce0c",
   "metadata": {},
   "outputs": [
    {
     "name": "stdout",
     "output_type": "stream",
     "text": [
      "Business Name: The UPS Store, Location: {'lat': 38.551126, 'lon': -90.335695}\n",
      "Business Name: Famous Footwear, Location: {'lat': 38.627695, 'lon': -90.340465}\n",
      "Business Name: Tsevi's Pub And Grill, Location: {'lat': 38.5651648, 'lon': -90.3210868}\n",
      "Business Name: TKO DJs, Location: {'lat': 38.6135761, 'lon': -90.3223828}\n",
      "Business Name: Ricardo's Italian Cafe, Location: {'lat': 38.6172724, 'lon': -90.2127841}\n",
      "Business Name: Sunset 44 Bistro, Location: {'lat': 38.5832229, 'lon': -90.4071872}\n",
      "Business Name: Budweiser Brewery Experience, Location: {'lat': 38.6001971, 'lon': -90.2135377}\n",
      "Business Name: Passport Health, Location: {'lat': 38.6361966, 'lon': -90.3457542}\n",
      "Business Name: McDonald's, Location: {'lat': 38.6124951839, 'lon': -90.2219420671}\n",
      "Business Name: Eddie's Southtown Donuts, Location: {'lat': 38.5857552, 'lon': -90.2768425}\n"
     ]
    }
   ],
   "source": [
    "top_left = {\"lat\": 38.71, \"lon\": -90.45}     \n",
    "bottom_right = {\"lat\": 38.55, \"lon\": -90.21} \n",
    "\n",
    "search_query = {\n",
    "    \"query\": {\n",
    "        \"geo_bounding_box\": {\n",
    "            \"location\": {  \n",
    "                \"top_left\": top_left,\n",
    "                \"bottom_right\": bottom_right\n",
    "            }\n",
    "        }\n",
    "    }\n",
    "}\n",
    "\n",
    "response = es.search(index=\"business_data\", body=search_query)\n",
    "\n",
    "for hit in response['hits']['hits']:\n",
    "    print(f\"Business Name: {hit['_source']['name']}, Location: {hit['_source']['location']}\")"
   ]
  },
  {
   "cell_type": "markdown",
   "id": "b7271344",
   "metadata": {},
   "source": [
    "# Mappings"
   ]
  },
  {
   "cell_type": "code",
   "execution_count": 31,
   "id": "30a013bc",
   "metadata": {},
   "outputs": [
    {
     "data": {
      "text/plain": [
       "ObjectApiResponse({'acknowledged': True, 'shards_acknowledged': True, 'index': 'review_index'})"
      ]
     },
     "execution_count": 31,
     "metadata": {},
     "output_type": "execute_result"
    }
   ],
   "source": [
    "mappings = {\n",
    "    \"properties\": {\n",
    "        \"review_id\": {\"type\": \"keyword\"},\n",
    "        \"user_id\": {\"type\": \"keyword\"},\n",
    "        \"business_id\": {\"type\": \"keyword\"},\n",
    "        \"stars\": {\"type\": \"integer\"},\n",
    "        \"useful\": {\"type\": \"integer\"},\n",
    "        \"funny\": {\"type\": \"integer\"},\n",
    "        \"cool\": {\"type\": \"integer\"},\n",
    "        \"text\": {\"type\": \"text\"},\n",
    "        \"date\": {\"type\": \"date\"},\n",
    "        # \"text_vector\": {\n",
    "        #     \"type\": \"dense_vector\",\n",
    "        #     \"similarity\": \"cosine\",\n",
    "        # },\n",
    "    }\n",
    "}\n",
    "\n",
    "\n",
    "es.indices.create(index=\"review_index\", mappings=mappings)"
   ]
  },
  {
   "cell_type": "code",
   "execution_count": 32,
   "id": "a3a1db08",
   "metadata": {
    "scrolled": true
   },
   "outputs": [],
   "source": [
    "operations = []\n",
    "for _, row in reviews.iterrows():\n",
    "    row_data = row.to_dict()\n",
    "    # row_data[\"text_vector\"] = model.encode(row_data[\"text\"]).tolist()\n",
    "    record = {\n",
    "        '_op_type': 'index',\n",
    "        '_index': 'review_index',\n",
    "        '_source': row_data\n",
    "    }\n",
    "    operations.append(record)"
   ]
  },
  {
   "cell_type": "code",
   "execution_count": 33,
   "id": "e6ab7442",
   "metadata": {},
   "outputs": [
    {
     "data": {
      "text/plain": [
       "502385"
      ]
     },
     "execution_count": 33,
     "metadata": {},
     "output_type": "execute_result"
    }
   ],
   "source": [
    "len(operations)"
   ]
  },
  {
   "cell_type": "code",
   "execution_count": 34,
   "id": "d2787325",
   "metadata": {},
   "outputs": [
    {
     "name": "stdout",
     "output_type": "stream",
     "text": [
      "Data uploaded successfully: (502385, [])\n"
     ]
    }
   ],
   "source": [
    "try:\n",
    "    response =  bulk(es, operations)\n",
    "    print(\"Data uploaded successfully:\", response)\n",
    "except Exception as e:\n",
    "    print(\"Error uploading data:\", e)"
   ]
  },
  {
   "cell_type": "markdown",
   "id": "1fe066cb",
   "metadata": {},
   "source": [
    "#### 1. Number of Reviews"
   ]
  },
  {
   "cell_type": "code",
   "execution_count": 54,
   "id": "72d89f5a",
   "metadata": {},
   "outputs": [
    {
     "name": "stdout",
     "output_type": "stream",
     "text": [
      "User ID: bYENop4BuQepBjM1-BI3fA \n",
      "Review Count:  1392 \n",
      "ID of 10 Businesses Reviewed:  ['ahpLj4hNo2-2w_xf2sNE3g', 'vuAI70USd3my2Kb9_9zajw', 'ZfZhTZ5CHU5LQDeEUGsE_Q', 'k8hFz4Gty5dHlDV4Wt8FqA', 'vD2jzpPv4iyOLKzITscGvA', '1o9IdLrFGMS2o5Y8uXKC0Q', 'LlB8qvLyxGWjduZb90EQUg', 'OcCrSDYR5cETO4FZ7R2iEg', 'eRnCmPc6TTbNK-Zs0jgYPA', 'qfABDeMSCirVPeG6BfcUEA']\n"
     ]
    }
   ],
   "source": [
    "query = {\n",
    "    \"query\": {\n",
    "        \"term\": {\"user_id\": \"bYENop4BuQepBjM1-BI3fA\"}\n",
    "    },\n",
    "    \"aggs\": {\n",
    "        \"review_count\": {\"value_count\": {\"field\": \"user_id\"}},\n",
    "        \"unique_businesses\": {\n",
    "            \"terms\": {\n",
    "                \"field\": \"business_id\",\n",
    "                \"size\": 5000  \n",
    "            }\n",
    "        }\n",
    "    },\n",
    "    \"_source\": [\"business_id\", \"text\"],\n",
    "    \"size\": 10000  \n",
    "}\n",
    "\n",
    "try:\n",
    "    response = es.search(index='review_index', body=query)\n",
    "\n",
    "    review_count = response['aggregations']['review_count']['value']\n",
    "    business_ids = [bucket['key'] for bucket in response['aggregations']['unique_businesses']['buckets']]\n",
    "\n",
    "    print(\"User ID: bYENop4BuQepBjM1-BI3fA\", \"\\nReview Count: \", review_count, \"\\nID of 10 Businesses Reviewed: \", business_ids[:10])\n",
    "    \n",
    "except Exception as e:\n",
    "    print(f\"Error analyzing user reviews: {e}\")\n",
    "    raise"
   ]
  },
  {
   "cell_type": "code",
   "execution_count": 55,
   "id": "14d0aee6",
   "metadata": {},
   "outputs": [
    {
     "name": "stdout",
     "output_type": "stream",
     "text": [
      "1392\n"
     ]
    }
   ],
   "source": [
    "reviews = [hit[\"_source\"] for hit in response[\"hits\"][\"hits\"]]\n",
    "\n",
    "# Convert to DataFrame\n",
    "if reviews:\n",
    "    print(len(pd.DataFrame(reviews)))\n",
    "else:\n",
    "    print(pd.DataFrame())"
   ]
  },
  {
   "cell_type": "markdown",
   "id": "e616d667",
   "metadata": {},
   "source": [
    "#### 2. Bounding Box of Business Reviewed "
   ]
  },
  {
   "cell_type": "code",
   "execution_count": 40,
   "id": "20c25438",
   "metadata": {},
   "outputs": [
    {
     "data": {
      "text/plain": [
       "ObjectApiResponse({'took': 0, 'timed_out': False, '_shards': {'total': 1, 'successful': 1, 'skipped': 0, 'failed': 0}, 'hits': {'total': {'value': 0, 'relation': 'eq'}, 'max_score': None, 'hits': []}})"
      ]
     },
     "execution_count": 40,
     "metadata": {},
     "output_type": "execute_result"
    }
   ],
   "source": [
    "query = {\n",
    "    \"query\": {\n",
    "        \"term\": {\"user_id\": \"bYENop4BuQepBjM1-BI3fA\"}\n",
    "    }\n",
    "}\n",
    "\n",
    "response = es.search(index='business_data', body=query)\n",
    "response"
   ]
  },
  {
   "cell_type": "code",
   "execution_count": 138,
   "id": "07cd3354",
   "metadata": {},
   "outputs": [],
   "source": [
    "def bounding_box(X, Y, r=10, R=6.4):\n",
    "    C = 2 * np.pi * R\n",
    "    \n",
    "    dY = r * C / 360\n",
    "    dX = dY * np.cos(np.radians(Y))\n",
    "    \n",
    "    Xmin, Ymin = X - dX, Y - dY\n",
    "    Xmax, Ymax = X + dX, Y + dY\n",
    "    return (Xmin, Ymin, Xmax, Ymax)"
   ]
  },
  {
   "cell_type": "code",
   "execution_count": 139,
   "id": "01c8fc0f",
   "metadata": {},
   "outputs": [
    {
     "data": {
      "text/plain": [
       "(-91.3216272246551, 37.59298927872363, -89.5783727753449, 39.82701072127637)"
      ]
     },
     "execution_count": 139,
     "metadata": {},
     "output_type": "execute_result"
    }
   ],
   "source": [
    "bounding_box(-90.45, 38.71)"
   ]
  },
  {
   "cell_type": "code",
   "execution_count": 170,
   "id": "2a968a9d",
   "metadata": {},
   "outputs": [
    {
     "name": "stdout",
     "output_type": "stream",
     "text": [
      "(-91.2130947943793, 37.51068427872363, -89.46783520562069, 39.744705721276375)\n",
      "(-91.1869234305881, 37.54843827872363, -89.44258316941192, 39.782459721276375)\n",
      "(-91.387732786376, 37.507669278723625, -89.642399813624, 39.74169072127637)\n",
      "(-91.14692526270217, 37.50140097872363, -89.40143973729782, 39.735422421276375)\n",
      "(-91.06242796779257, 37.50942927872363, -89.31713783220742, 39.743450721276375)\n",
      "(-91.12934570101504, 37.50977987872363, -89.38406409898496, 39.74380132127637)\n",
      "(-91.27901508888033, 37.515483078723626, -89.53387231111967, 39.74950452127637)\n",
      "(-91.22083946574367, 37.51773179752363, -89.47575142985633, 39.751753240076376)\n",
      "(-91.12837360181501, 37.50270447872363, -89.38291979818499, 39.736725921276374)\n",
      "(-91.16269003548155, 37.46477537872363, -89.41631356451845, 39.698796821276375)\n"
     ]
    }
   ],
   "source": [
    "response = es.search(\n",
    "    index = \"business_data\", \n",
    "    query = {\n",
    "        \"bool\": {\n",
    "            \"should\": [{\"match\": {\"business_id\": value}} for value in business_ids]\n",
    "        }\n",
    "    },\n",
    "    size=10000,\n",
    ")\n",
    "\n",
    "for hit in response[\"hits\"][\"hits\"][:10]:\n",
    "    print(bounding_box(hit[\"_source\"][\"longitude\"], hit[\"_source\"][\"latitude\"]))"
   ]
  }
 ],
 "metadata": {
  "kernelspec": {
   "display_name": "Jupyter",
   "language": "python",
   "name": "jupyter"
  },
  "language_info": {
   "codemirror_mode": {
    "name": "ipython",
    "version": 3
   },
   "file_extension": ".py",
   "mimetype": "text/x-python",
   "name": "python",
   "nbconvert_exporter": "python",
   "pygments_lexer": "ipython3",
   "version": "3.10.5"
  }
 },
 "nbformat": 4,
 "nbformat_minor": 5
}
