{
 "cells": [
  {
   "cell_type": "code",
   "execution_count": 1,
   "metadata": {},
   "outputs": [
    {
     "data": {
      "text/plain": [
       "True"
      ]
     },
     "execution_count": 1,
     "metadata": {},
     "output_type": "execute_result"
    }
   ],
   "source": [
    "import pandas as pd\n",
    "from dotenv import load_dotenv, find_dotenv\n",
    "from elasticsearch import Elasticsearch\n",
    "import os\n",
    "\n",
    "load_dotenv(find_dotenv())"
   ]
  },
  {
   "cell_type": "code",
   "execution_count": 2,
   "metadata": {},
   "outputs": [],
   "source": [
    "cloud_id = os.environ.get(\"CLOUD_ID\")\n",
    "api_key = os.environ.get(\"API_KEY\")"
   ]
  },
  {
   "cell_type": "code",
   "execution_count": 3,
   "metadata": {},
   "outputs": [],
   "source": [
    "es = Elasticsearch(cloud_id=cloud_id, api_key=api_key)"
   ]
  },
  {
   "cell_type": "code",
   "execution_count": 4,
   "metadata": {},
   "outputs": [
    {
     "data": {
      "text/plain": [
       "ObjectApiResponse({'name': 'instance-0000000000', 'cluster_name': '9caa7647389a4f10a248732811d4a4ca', 'cluster_uuid': '8ogLGj2ZT7ywFoZnNQLygQ', 'version': {'number': '8.15.2', 'build_flavor': 'default', 'build_type': 'docker', 'build_hash': '98adf7bf6bb69b66ab95b761c9e5aadb0bb059a3', 'build_date': '2024-09-19T10:06:03.564235954Z', 'build_snapshot': False, 'lucene_version': '9.11.1', 'minimum_wire_compatibility_version': '7.17.0', 'minimum_index_compatibility_version': '7.0.0'}, 'tagline': 'You Know, for Search'})"
      ]
     },
     "execution_count": 4,
     "metadata": {},
     "output_type": "execute_result"
    }
   ],
   "source": [
    "es.info()"
   ]
  },
  {
   "cell_type": "code",
   "execution_count": 5,
   "metadata": {},
   "outputs": [
    {
     "name": "stdout",
     "output_type": "stream",
     "text": [
      "Index(['review_id', 'user_id', 'business_id', 'stars', 'useful', 'funny',\n",
      "       'cool', 'text', 'date'],\n",
      "      dtype='object')\n",
      "{'review_id': 'XW_LfMv0fV21l9c6xQd_lw', 'user_id': '9OAtfnWag-ajVxRbUTGIyg', 'business_id': 'lj-E32x9_FA7GmUrBGBEWg', 'stars': 4, 'useful': 0, 'funny': 0, 'cool': 0, 'text': \"Love going here for happy hour or dinner!  Great patio with fans to beat the StL heat!   Also...very accomodating at this location.  I like the Veal Milanese but with mixed greens instead of pasta!  they'll modify the menu to suit your taste!\", 'date': Timestamp('2014-06-27 22:44:01')}\n"
     ]
    }
   ],
   "source": [
    "df = pd.read_json(\"mo_business_reviews.json\")\n",
    "print (df.columns)\n",
    "print(df.iloc[0].to_dict())"
   ]
  },
  {
   "cell_type": "code",
   "execution_count": 6,
   "metadata": {},
   "outputs": [
    {
     "name": "stdout",
     "output_type": "stream",
     "text": [
      "<class 'pandas.core.frame.DataFrame'>\n",
      "RangeIndex: 502385 entries, 0 to 502384\n",
      "Data columns (total 9 columns):\n",
      " #   Column       Non-Null Count   Dtype         \n",
      "---  ------       --------------   -----         \n",
      " 0   review_id    502385 non-null  object        \n",
      " 1   user_id      502385 non-null  object        \n",
      " 2   business_id  502385 non-null  object        \n",
      " 3   stars        502385 non-null  int64         \n",
      " 4   useful       502385 non-null  int64         \n",
      " 5   funny        502385 non-null  int64         \n",
      " 6   cool         502385 non-null  int64         \n",
      " 7   text         502385 non-null  object        \n",
      " 8   date         502385 non-null  datetime64[ns]\n",
      "dtypes: datetime64[ns](1), int64(4), object(4)\n",
      "memory usage: 34.5+ MB\n"
     ]
    }
   ],
   "source": [
    "df.info()"
   ]
  },
  {
   "cell_type": "code",
   "execution_count": 7,
   "metadata": {},
   "outputs": [],
   "source": [
    "index_name = \"business_review_data\"\n",
    "\n",
    "mapping = {\n",
    "    \"mappings\" : {\n",
    "        \"properties\" : {\n",
    "            \"review_id\" :{\"type\" : \"keyword\"},\n",
    "            \"user_id\" : {\"type\" : \"keyword\"},\n",
    "            \"business_id\" : {\"type\" : \"keyword\"},\n",
    "            \"stars\" : {\"type\" : \"integer\"},\n",
    "            \"useful\" : {\"type\" : \"integer\"},\n",
    "            \"funny\" : {\"type\" : \"integer\"},\n",
    "            \"cool\" : {\"type\" : \"integer\"},\n",
    "            \"text\" : {\"type\" : \"text\"},\n",
    "            \"date\" : {\"type\" : \"date\"}\n",
    "        }\n",
    "    }\n",
    "}"
   ]
  },
  {
   "cell_type": "code",
   "execution_count": 8,
   "metadata": {},
   "outputs": [],
   "source": [
    "from elasticsearch.helpers import bulk"
   ]
  },
  {
   "cell_type": "code",
   "execution_count": 9,
   "metadata": {},
   "outputs": [
    {
     "name": "stdout",
     "output_type": "stream",
     "text": [
      "Index 'business_review_data' already exists.\n"
     ]
    }
   ],
   "source": [
    "if not es.indices.exists(index=index_name):\n",
    "    es.indices.create(index=index_name, body=mapping)\n",
    "    print(f\"Index '{index_name}' created successfully!\")\n",
    "else:\n",
    "    print(f\"Index '{index_name}' already exists.\")"
   ]
  },
  {
   "cell_type": "code",
   "execution_count": 10,
   "metadata": {},
   "outputs": [
    {
     "name": "stdout",
     "output_type": "stream",
     "text": [
      "Data uploaded successfully: (502385, [])\n"
     ]
    }
   ],
   "source": [
    "def upload_to_elastic(df, index_name):\n",
    "    for _, row in df.iterrows():\n",
    "        row_data = row.to_dict()\n",
    "        yield {\n",
    "            \"_index\": index_name,\n",
    "            \"_id\": row_data['review_id'],\n",
    "            \"_source\": row_data\n",
    "        }\n",
    "\n",
    "try:\n",
    "    response = bulk(es, upload_to_elastic(df, index_name))\n",
    "    print(\"Data uploaded successfully:\", response)\n",
    "except Exception as e:\n",
    "    print(\"Error uploading data:\", e)"
   ]
  },
  {
   "cell_type": "code",
   "execution_count": 11,
   "metadata": {},
   "outputs": [],
   "source": [
    "import requests"
   ]
  },
  {
   "cell_type": "code",
   "execution_count": 12,
   "metadata": {},
   "outputs": [
    {
     "name": "stdout",
     "output_type": "stream",
     "text": [
      "Business Review: This place has:\n",
      "pour over coffee\n",
      "cold brew coffee\n",
      "a very good bacon and egg sandwich\n",
      "\n",
      "This place does not have:\n",
      "a living room couch\n",
      "a living room rug\n",
      "a living room deer head mounted to the wall\n",
      "\n",
      "Four stars and not five because they're closed on Sundays and I put coffee before God., Score: 15.06712\n",
      "Business Review: Easily some of the best barbecue I've ever had.\n",
      "\n",
      "The atmosphere is very lively, and the decor is definitely unique, in a good way, whether it be the mounted deer head or the \"Wall of Tips\". I got their full slab of ribs, which was absolutely delicious, along with its sides. Their selection of sauces are wonderful and can cater to any sweetness/spice tastes. \n",
      "\n",
      "Their applesauce is incredible., Score: 14.130579\n",
      "Business Review: We decided to head to The Block for lunch today, specifically because the weather was nice enough to sit outside. We had heard good things about their outside area. We asked the hostess for outside seating, and she said, \"The door is locked and we don't have a key.\" We expressed our displeasure and begrudgingly ate inside. My husband checked the outside door before we left; it WASN'T locked. I mentioned this to the hostess when we were leaving, and she had that \"deer in the headlights look.\" What the heck? Even though the food was good and service fine, this left a \"bad taste in my mouth.\", Score: 12.183273\n",
      "Business Review: I brought up some deer meat to have brats made. And WOW. The best brats I've ever eaten. I had beer brats and jalapeño cheddar brats made up. The deer/pork ratio they did was spot on. I can't recommend G&W enough. On top of that, they offer a free Busch beer every time I go!, Score: 12.064692\n",
      "Business Review: Went to this bar on a  friends birthday to hear live music by our other friends. Upon getting there, we all felt underdressed but made a go of it anyways. Inside we found a cross between a frat bar and a german bar. The beer selection was somewhat limited and after reading reviews about how much head comes with each beer, I opted for a bloody mary. Wrong idea. I could of made a better bloody with my eyes closed. After seeing my friends beer a 1/4 full of head, I decided to stop drinking there. The fries were tasty in defense of this place and they have a bunch of games (deer hunter, basketball shootout, shuffle board, ski ball, darts...) Those two things get them the two stars. \n",
      "\n",
      "Conclusion: this would be a fun place to stop half way through the night to go play drunkin arcade games, and eat cheap munchies, Score: 11.943596\n",
      "Business Review: Best stuffed deer doll in all the coffee shops! My grandson loved it!!!, Score: 11.841993\n",
      "Business Review: Sucks sucks sucks sucks!!! This place is a joke! Tried to purchase an item from them that was on the wall.  My husband  spoke to the manager,  sales associate and we were told even though there was a tag on the item with a price and it was hanging up that they didn't have them.  We couldn't buy it. Then emailed customer service they answered back with the wrong product information.  Although there was a picture attached. We emailed 2 more times and they never responded, just called I was told that I was wrong, they don't have this Cheyenne Deer head,  that it was a moose head and I was mistaken, I have a picture of the item.. I was told over and over, while I'm looking at my picture that the item doesn't exist. \n",
      "Never a solution made,  never an alternative.  They would not let me speak to a supervisor,  and wouldn't agree to let me send the picture to help me spend money at their store..   horrible experience!!! #cheyennedeerdoesntexist, Score: 11.428366\n",
      "Business Review: LOVE everything about Deer Creek. Started coming here regularly and have never had anything to complain about. The staff is genuinely amazing, funny, and are some of my favorite people to start every morning with. The vibe here is amazing, and I haven't tried a pastry here I have not liked. Deer Creek is hands down one of the best local coffee shops in St. Louis. Plus they have some really good waffles...and let's be real who doesn't want a good waffle?, Score: 11.256296\n",
      "Business Review: Ask a question, get a deer-in-headlights look. These people are so lazy they can barely speak to answer a question., Score: 11.24736\n",
      "Business Review: One of my favorite spots in STL. Fun for all ages and very fun to see the bison and elk and sometimes deer!, Score: 11.184956\n"
     ]
    }
   ],
   "source": [
    "search_query = {\n",
    "    \"query\": {\n",
    "        \"match\": {\n",
    "            \"text\": \"deer head\"\n",
    "        }\n",
    "    }\n",
    "}\n",
    "\n",
    "response = es.search(index=\"business_review_data\", body=search_query)\n",
    "\n",
    "for hit in response['hits']['hits']:\n",
    "    print(f\"Business Review: {hit['_source']['text']}, Score: {hit['_score']}\")"
   ]
  },
  {
   "cell_type": "code",
   "execution_count": 13,
   "metadata": {},
   "outputs": [
    {
     "name": "stderr",
     "output_type": "stream",
     "text": [
      "[nltk_data] Downloading package wordnet to\n",
      "[nltk_data]     /Users/mrnalikamohanraja/nltk_data...\n",
      "[nltk_data]   Package wordnet is already up-to-date!\n"
     ]
    },
    {
     "data": {
      "text/plain": [
       "True"
      ]
     },
     "execution_count": 13,
     "metadata": {},
     "output_type": "execute_result"
    }
   ],
   "source": [
    "import nltk\n",
    "nltk.download('wordnet')"
   ]
  },
  {
   "cell_type": "code",
   "execution_count": 14,
   "metadata": {},
   "outputs": [],
   "source": [
    "import pandas as pd\n",
    "from nltk.corpus import wordnet as wn"
   ]
  },
  {
   "cell_type": "code",
   "execution_count": 15,
   "metadata": {},
   "outputs": [],
   "source": [
    "def get_synonyms(word):\n",
    "    synonyms = set()\n",
    "    for syn in wn.synsets(word):\n",
    "        for lemma in syn.lemmas():\n",
    "            synonyms.add(lemma.name())\n",
    "    return list(synonyms)"
   ]
  },
  {
   "cell_type": "code",
   "execution_count": 16,
   "metadata": {},
   "outputs": [],
   "source": [
    "def expand_query_with_synonyms(query):\n",
    "    words = query.split()\n",
    "    expanded_query = []\n",
    "\n",
    "    for word in words:\n",
    "        synonyms = get_synonyms(word)\n",
    "        expanded_query.extend(synonyms)\n",
    "\n",
    "    return expanded_query"
   ]
  },
  {
   "cell_type": "code",
   "execution_count": 19,
   "metadata": {},
   "outputs": [
    {
     "name": "stdout",
     "output_type": "stream",
     "text": [
      "Search Terms: ['obsessed', 'taken_up', 'obsessed', 'haunted', 'obsess', 'possessed', 'ghost', 'preoccupied', 'haunt']\n",
      "Business Review: If you like guys who bathe in cologne, pop their collars, and obsess over themselves than you'll have a great time at Mandarin.  I'm not from St. Louis, but I've noticed that a lot of people here are completely obsessed with \"status\"... even when it comes to the high school they went to.  It's kind of a joke, and the last time I was dragged to Mandarin that's all I heard about.\n",
      "\n",
      "Other than the lame clientele, the bar itself is a joke.  If you want a good rooftop bar, go to the one at the Moonrise hotel on Delmar.  Definitely don't come here on a week night - you can hear crickets, and if you come on a weekend, prepare yourself for a throng of self-involved douchebags., Score: 22.206387\n",
      "Business Review: I honestly was obsessed with this place. I always get the chicken shwarma with extra garlic sauce at the side (so I can dip my fries, the sauce is AMAZING). I haven't had anything else but my friends have, and they love it. I've taken so many people there and they're obsessed., Score: 21.145458\n",
      "Business Review: Totally obsessed with the sesame tofu balls.  Service is always great.  Very efficient., Score: 20.50671\n",
      "Business Review: Great haunted tour.  Betsy and John were very nice knowledgeable and passionate with the history and true story of the mansion.  Tour was a few hours and there was lots to see.  My entire family enjoyed this and we all felt we were ghost hunting !, Score: 20.484314\n",
      "Business Review: I'm obsessed with this place. Best moussaka. Really great service. Deff will be back., Score: 20.38695\n",
      "Business Review: Obsessed with this place and its awesome, helpful employers. So glad it's in the CWE!, Score: 20.268581\n",
      "Business Review: We all know LeGrand's is top notch for sandwiches but I am obsessed with their brats!, Score: 20.15158\n",
      "Business Review: My absolute favorite roast beef sandwich. Not sure what they do that's different but I'm obsessed., Score: 20.15158\n",
      "Business Review: this is definitely my favorite mexican restaurant in st. louis. i am obsessed with their tacos!!!, Score: 20.15158\n",
      "Business Review: My husband and I are obsessed with Brasilia! It's hands down the best restaurant in STL., Score: 20.15158\n"
     ]
    }
   ],
   "source": [
    "def get_synonyms(term):\n",
    "    synonyms = set()\n",
    "    for syn in wn.synsets(term):\n",
    "        for lemma in syn.lemmas():\n",
    "            synonyms.add(lemma.name())\n",
    "    return list(synonyms)\n",
    "\n",
    "search_term = \"obsessed\"\n",
    "synonyms = get_synonyms(search_term)\n",
    "all_terms = [search_term] + synonyms\n",
    "print(\"Search Terms:\", all_terms)\n",
    "search_query = {\n",
    "    \"query\": {\n",
    "        \"bool\": {\n",
    "            \"should\": [\n",
    "                {\"match\": {\"text\": term}} for term in all_terms\n",
    "            ]\n",
    "        }\n",
    "    }\n",
    "}\n",
    "response = es.search(index=\"business_review_data\", body=search_query)\n",
    "for hit in response['hits']['hits']:\n",
    "    print(f\"Business Review: {hit['_source']['text']}, Score: {hit['_score']}\")\n"
   ]
  }
 ],
 "metadata": {
  "kernelspec": {
   "display_name": "venv",
   "language": "python",
   "name": "python3"
  },
  "language_info": {
   "codemirror_mode": {
    "name": "ipython",
    "version": 3
   },
   "file_extension": ".py",
   "mimetype": "text/x-python",
   "name": "python",
   "nbconvert_exporter": "python",
   "pygments_lexer": "ipython3",
   "version": "3.11.10"
  }
 },
 "nbformat": 4,
 "nbformat_minor": 2
}
