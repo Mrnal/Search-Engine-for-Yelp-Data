{
 "cells": [
  {
   "cell_type": "code",
   "execution_count": 39,
   "metadata": {},
   "outputs": [
    {
     "data": {
      "text/plain": [
       "True"
      ]
     },
     "execution_count": 39,
     "metadata": {},
     "output_type": "execute_result"
    }
   ],
   "source": [
    "import pandas as pd\n",
    "from dotenv import load_dotenv, find_dotenv\n",
    "from elasticsearch import Elasticsearch\n",
    "import os\n",
    "\n",
    "load_dotenv(find_dotenv())"
   ]
  },
  {
   "cell_type": "code",
   "execution_count": 40,
   "metadata": {},
   "outputs": [],
   "source": [
    "cloud_id = os.environ.get(\"CLOUD_ID\")\n",
    "api_key = os.environ.get(\"API_KEY\")"
   ]
  },
  {
   "cell_type": "code",
   "execution_count": 41,
   "metadata": {},
   "outputs": [],
   "source": [
    "es = Elasticsearch(cloud_id=cloud_id, api_key=api_key)"
   ]
  },
  {
   "cell_type": "code",
   "execution_count": 42,
   "metadata": {},
   "outputs": [
    {
     "data": {
      "text/plain": [
       "ObjectApiResponse({'name': 'instance-0000000001', 'cluster_name': '9caa7647389a4f10a248732811d4a4ca', 'cluster_uuid': '8ogLGj2ZT7ywFoZnNQLygQ', 'version': {'number': '8.15.2', 'build_flavor': 'default', 'build_type': 'docker', 'build_hash': '98adf7bf6bb69b66ab95b761c9e5aadb0bb059a3', 'build_date': '2024-09-19T10:06:03.564235954Z', 'build_snapshot': False, 'lucene_version': '9.11.1', 'minimum_wire_compatibility_version': '7.17.0', 'minimum_index_compatibility_version': '7.0.0'}, 'tagline': 'You Know, for Search'})"
      ]
     },
     "execution_count": 42,
     "metadata": {},
     "output_type": "execute_result"
    }
   ],
   "source": [
    "es.info()"
   ]
  },
  {
   "cell_type": "code",
   "execution_count": 43,
   "metadata": {},
   "outputs": [
    {
     "name": "stdout",
     "output_type": "stream",
     "text": [
      "Index(['business_id', 'name', 'address', 'city', 'state', 'postal_code',\n",
      "       'latitude', 'longitude', 'stars', 'review_count', 'is_open',\n",
      "       'attributes', 'categories', 'hours'],\n",
      "      dtype='object')\n",
      "{'business_id': 'mpf3x-BjTdTEA3yCZrAYPw', 'name': 'The UPS Store', 'address': '87 Grasso Plaza Shopping Center', 'city': 'Affton', 'state': 'MO', 'postal_code': '63123', 'latitude': 38.551126, 'longitude': -90.335695, 'stars': 3.0, 'review_count': 15, 'is_open': 1, 'attributes': {'BusinessAcceptsCreditCards': 'True'}, 'categories': 'Shipping Centers, Local Services, Notaries, Mailbox Centers, Printing Services', 'hours': {'Monday': '0:0-0:0', 'Tuesday': '8:0-18:30', 'Wednesday': '8:0-18:30', 'Thursday': '8:0-18:30', 'Friday': '8:0-18:30', 'Saturday': '8:0-14:0'}}\n"
     ]
    }
   ],
   "source": [
    "df = pd.read_json(\"../yelp_data/mo_business.json\")\n",
    "print(df.columns)\n",
    "print(df.iloc[0].to_dict())"
   ]
  },
  {
   "cell_type": "code",
   "execution_count": 44,
   "metadata": {},
   "outputs": [
    {
     "name": "stdout",
     "output_type": "stream",
     "text": [
      "<class 'pandas.core.frame.DataFrame'>\n",
      "RangeIndex: 10913 entries, 0 to 10912\n",
      "Data columns (total 14 columns):\n",
      " #   Column        Non-Null Count  Dtype  \n",
      "---  ------        --------------  -----  \n",
      " 0   business_id   10913 non-null  object \n",
      " 1   name          10913 non-null  object \n",
      " 2   address       10913 non-null  object \n",
      " 3   city          10913 non-null  object \n",
      " 4   state         10913 non-null  object \n",
      " 5   postal_code   10913 non-null  object \n",
      " 6   latitude      10913 non-null  float64\n",
      " 7   longitude     10913 non-null  float64\n",
      " 8   stars         10913 non-null  float64\n",
      " 9   review_count  10913 non-null  int64  \n",
      " 10  is_open       10913 non-null  int64  \n",
      " 11  attributes    10047 non-null  object \n",
      " 12  categories    10907 non-null  object \n",
      " 13  hours         9450 non-null   object \n",
      "dtypes: float64(3), int64(2), object(9)\n",
      "memory usage: 1.2+ MB\n"
     ]
    }
   ],
   "source": [
    "df.info()"
   ]
  },
  {
   "cell_type": "code",
   "execution_count": 45,
   "metadata": {},
   "outputs": [],
   "source": [
    "def clean_boolean(value):\n",
    "    if isinstance(value, str):\n",
    "        return value.lower() == 'true'\n",
    "    return bool(value) if value is not None else None"
   ]
  },
  {
   "cell_type": "code",
   "execution_count": 46,
   "metadata": {},
   "outputs": [],
   "source": [
    "## fillna\n",
    "df['attributes'] = df['attributes'].apply(lambda x: {} if pd.isna(x) else x)\n",
    "df['attributes'] = df['attributes'].apply(lambda x: {'BusinessAcceptsCreditCards': clean_boolean(x.get('BusinessAcceptsCreditCards'))} if isinstance(x, dict) else {})\n",
    "df['hours'] = df['hours'].apply(lambda x: {} if pd.isna(x) else x)\n",
    "df['categories'] = df['categories'].fillna(\"Unknown\")\n",
    "\n",
    "## dtype mapping\n",
    "df['is_open'] = df['is_open'].astype(bool)\n",
    "df['business_id'] = df['business_id'].astype(str)\n",
    "df['name'] = df['name'].astype(str)\n",
    "df['postal_code'] = df['postal_code'].astype(str)"
   ]
  },
  {
   "cell_type": "code",
   "execution_count": 47,
   "metadata": {},
   "outputs": [
    {
     "name": "stdout",
     "output_type": "stream",
     "text": [
      "<class 'pandas.core.frame.DataFrame'>\n",
      "RangeIndex: 10913 entries, 0 to 10912\n",
      "Data columns (total 14 columns):\n",
      " #   Column        Non-Null Count  Dtype  \n",
      "---  ------        --------------  -----  \n",
      " 0   business_id   10913 non-null  object \n",
      " 1   name          10913 non-null  object \n",
      " 2   address       10913 non-null  object \n",
      " 3   city          10913 non-null  object \n",
      " 4   state         10913 non-null  object \n",
      " 5   postal_code   10913 non-null  object \n",
      " 6   latitude      10913 non-null  float64\n",
      " 7   longitude     10913 non-null  float64\n",
      " 8   stars         10913 non-null  float64\n",
      " 9   review_count  10913 non-null  int64  \n",
      " 10  is_open       10913 non-null  bool   \n",
      " 11  attributes    10913 non-null  object \n",
      " 12  categories    10913 non-null  object \n",
      " 13  hours         10913 non-null  object \n",
      "dtypes: bool(1), float64(3), int64(1), object(9)\n",
      "memory usage: 1.1+ MB\n"
     ]
    }
   ],
   "source": [
    "df.info()"
   ]
  },
  {
   "cell_type": "code",
   "execution_count": 49,
   "metadata": {},
   "outputs": [],
   "source": [
    "index_name = \"business_data\"\n",
    "\n",
    "mapping = {\n",
    "    \"mappings\": {\n",
    "        \"properties\": {\n",
    "            \"business_id\": {\"type\": \"keyword\"},\n",
    "            \"name\": {\"type\": \"text\"},\n",
    "            \"address\": {\"type\": \"text\"},\n",
    "            \"city\": {\"type\": \"keyword\"},\n",
    "            \"state\": {\"type\": \"keyword\"},\n",
    "            \"postal_code\": {\"type\": \"keyword\"},\n",
    "            \"location\": { \"type\": \"geo_point\" },\n",
    "            \"latitude\": {\"type\": \"float\"},\n",
    "            \"longitude\": {\"type\": \"float\"},\n",
    "            \"stars\": {\"type\": \"float\"},\n",
    "            \"review_count\": {\"type\": \"integer\"},\n",
    "            \"is_open\": {\"type\": \"boolean\"},\n",
    "            \"attributes\": {\n",
    "                \"properties\": {\n",
    "                    \"BusinessAcceptsCreditCards\": {\"type\": \"boolean\"}\n",
    "                }\n",
    "            },\n",
    "            \"categories\": {\"type\": \"text\"},\n",
    "            \"hours\": {\n",
    "                \"properties\": {\n",
    "                    \"Monday\": {\"type\": \"text\"},\n",
    "                    \"Tuesday\": {\"type\": \"text\"},\n",
    "                    \"Wednesday\": {\"type\": \"text\"},\n",
    "                    \"Thursday\": {\"type\": \"text\"},\n",
    "                    \"Friday\": {\"type\": \"text\"},\n",
    "                    \"Saturday\": {\"type\": \"text\"},\n",
    "                    \"Sunday\": {\"type\": \"text\"}\n",
    "                }\n",
    "            }\n",
    "        }\n",
    "    }\n",
    "}"
   ]
  },
  {
   "cell_type": "markdown",
   "metadata": {},
   "source": [
    "## create business index"
   ]
  },
  {
   "cell_type": "code",
   "execution_count": 50,
   "metadata": {},
   "outputs": [],
   "source": [
    "from elasticsearch.helpers import bulk"
   ]
  },
  {
   "cell_type": "code",
   "execution_count": 51,
   "metadata": {},
   "outputs": [
    {
     "name": "stdout",
     "output_type": "stream",
     "text": [
      "Index 'business_data' created successfully!\n"
     ]
    }
   ],
   "source": [
    "if not es.indices.exists(index=index_name):\n",
    "    es.indices.create(index=index_name, body=mapping)\n",
    "    print(f\"Index '{index_name}' created successfully!\")\n",
    "else:\n",
    "    print(f\"Index '{index_name}' already exists.\")"
   ]
  },
  {
   "cell_type": "code",
   "execution_count": 52,
   "metadata": {},
   "outputs": [
    {
     "name": "stdout",
     "output_type": "stream",
     "text": [
      "Data uploaded successfully: (10913, [])\n"
     ]
    }
   ],
   "source": [
    "def upload_to_elastic(df, index_name):\n",
    "    for _, row in df.iterrows():\n",
    "        row_data = row.to_dict()\n",
    "        row_data['location'] = {\n",
    "            'lat': row_data['latitude'],\n",
    "            'lon': row_data['longitude']\n",
    "        }\n",
    "        yield {\n",
    "            \"_index\": index_name,\n",
    "            \"_id\": row_data['business_id'],\n",
    "            \"_source\": row_data\n",
    "        }\n",
    "\n",
    "try:\n",
    "    response = bulk(es, upload_to_elastic(df, index_name))\n",
    "    print(\"Data uploaded successfully:\", response)\n",
    "except Exception as e:\n",
    "    print(\"Error uploading data:\", e)"
   ]
  },
  {
   "cell_type": "markdown",
   "metadata": {},
   "source": [
    "## Keyword search"
   ]
  },
  {
   "cell_type": "code",
   "execution_count": 53,
   "metadata": {},
   "outputs": [
    {
     "name": "stdout",
     "output_type": "stream",
     "text": [
      "Business Name: Imo's Pizza, Score: 4.2314672\n",
      "Business Name: Domino's Pizza, Score: 4.2314672\n",
      "Business Name: Elicia's Pizza, Score: 4.2314672\n",
      "Business Name: Reavis Pizza, Score: 4.2314672\n",
      "Business Name: Imo's Pizza, Score: 4.2314672\n",
      "Business Name: Imo's Pizza, Score: 4.2314672\n",
      "Business Name: Marco's Pizza, Score: 4.2314672\n",
      "Business Name: Jet's Pizza, Score: 4.2314672\n",
      "Business Name: Pizza Hut, Score: 4.2314672\n",
      "Business Name: Pizza Hut, Score: 4.2314672\n"
     ]
    }
   ],
   "source": [
    "search_query = {\n",
    "    \"query\": {\n",
    "        \"match\": {\n",
    "            \"name\": \"pizza\"\n",
    "        }\n",
    "    }\n",
    "}\n",
    "\n",
    "response = es.search(index=\"business_data\", body=search_query)\n",
    "\n",
    "for hit in response['hits']['hits']:\n",
    "    print(f\"Business Name: {hit['_source']['name']}, Score: {hit['_score']}\")"
   ]
  },
  {
   "cell_type": "code",
   "execution_count": 56,
   "metadata": {},
   "outputs": [
    {
     "data": {
      "text/plain": [
       "(0        38.551126\n",
       " 1        38.627695\n",
       " 2        38.565165\n",
       " 3        38.613576\n",
       " 4        38.617272\n",
       "            ...    \n",
       " 10908    38.572572\n",
       " 10909    38.715094\n",
       " 10910    38.660185\n",
       " 10911    38.641988\n",
       " 10912    38.631909\n",
       " Name: latitude, Length: 10913, dtype: float64,\n",
       " 0       -90.335695\n",
       " 1       -90.340465\n",
       " 2       -90.321087\n",
       " 3       -90.322383\n",
       " 4       -90.212784\n",
       "            ...    \n",
       " 10908   -90.333021\n",
       " 10909   -90.455972\n",
       " 10910   -90.225247\n",
       " 10911   -90.261655\n",
       " 10912   -90.444269\n",
       " Name: longitude, Length: 10913, dtype: float64)"
      ]
     },
     "execution_count": 56,
     "metadata": {},
     "output_type": "execute_result"
    }
   ],
   "source": [
    "df['latitude'], df['longitude']"
   ]
  },
  {
   "cell_type": "markdown",
   "metadata": {},
   "source": [
    "## Geo-spatial search"
   ]
  },
  {
   "cell_type": "code",
   "execution_count": 57,
   "metadata": {},
   "outputs": [
    {
     "name": "stdout",
     "output_type": "stream",
     "text": [
      "Business Name: The UPS Store, Location: {'lat': 38.551126, 'lon': -90.335695}\n",
      "Business Name: Famous Footwear, Location: {'lat': 38.627695, 'lon': -90.340465}\n",
      "Business Name: Tsevi's Pub And Grill, Location: {'lat': 38.5651648, 'lon': -90.3210868}\n",
      "Business Name: TKO DJs, Location: {'lat': 38.6135761, 'lon': -90.3223828}\n",
      "Business Name: Ricardo's Italian Cafe, Location: {'lat': 38.6172724, 'lon': -90.2127841}\n",
      "Business Name: Sunset 44 Bistro, Location: {'lat': 38.5832229, 'lon': -90.4071872}\n",
      "Business Name: Budweiser Brewery Experience, Location: {'lat': 38.6001971, 'lon': -90.2135377}\n",
      "Business Name: Passport Health, Location: {'lat': 38.6361966, 'lon': -90.3457542}\n",
      "Business Name: McDonald's, Location: {'lat': 38.6124951839, 'lon': -90.2219420671}\n",
      "Business Name: Eddie's Southtown Donuts, Location: {'lat': 38.5857552, 'lon': -90.2768425}\n"
     ]
    }
   ],
   "source": [
    "top_left = {\"lat\": 38.71, \"lon\": -90.45}     \n",
    "bottom_right = {\"lat\": 38.55, \"lon\": -90.21} \n",
    "\n",
    "search_query = {\n",
    "    \"query\": {\n",
    "        \"geo_bounding_box\": {\n",
    "            \"location\": {  \n",
    "                \"top_left\": top_left,\n",
    "                \"bottom_right\": bottom_right\n",
    "            }\n",
    "        }\n",
    "    }\n",
    "}\n",
    "\n",
    "response = es.search(index=\"business_data\", body=search_query)\n",
    "\n",
    "for hit in response['hits']['hits']:\n",
    "    print(f\"Business Name: {hit['_source']['name']}, Location: {hit['_source']['location']}\")"
   ]
  }
 ],
 "metadata": {
  "kernelspec": {
   "display_name": "venv",
   "language": "python",
   "name": "python3"
  },
  "language_info": {
   "codemirror_mode": {
    "name": "ipython",
    "version": 3
   },
   "file_extension": ".py",
   "mimetype": "text/x-python",
   "name": "python",
   "nbconvert_exporter": "python",
   "pygments_lexer": "ipython3",
   "version": "3.11.9"
  }
 },
 "nbformat": 4,
 "nbformat_minor": 2
}
